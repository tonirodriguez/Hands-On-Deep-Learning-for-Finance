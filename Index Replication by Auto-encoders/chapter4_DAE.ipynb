{
 "cells": [
  {
   "cell_type": "code",
   "execution_count": 1,
   "metadata": {
    "collapsed": false
   },
   "outputs": [],
   "source": [
    "import pandas as pd\n",
    "import numpy as np\n",
    "from scipy import stats\n",
    "\n",
    "import matplotlib.pyplot as plt\n",
    "\n",
    "from sklearn.preprocessing import MinMaxScaler\n",
    "\n",
    "from tensorflow.keras.layers import Input, Dense\n",
    "from tensorflow.keras.models import Model, Sequential\n",
    "from tensorflow.keras import regularizers"
   ]
  },
  {
   "cell_type": "code",
   "execution_count": 2,
   "metadata": {
    "collapsed": false
   },
   "outputs": [
    {
     "name": "stdout",
     "output_type": "stream",
     "text": [
      "Stocks data (time series) shape: (1512, 91)\n",
      "Index data (time series) shape: (1512,)\n"
     ]
    },
    {
     "data": {
      "text/html": [
       "<div>\n",
       "<style scoped>\n",
       "    .dataframe tbody tr th:only-of-type {\n",
       "        vertical-align: middle;\n",
       "    }\n",
       "\n",
       "    .dataframe tbody tr th {\n",
       "        vertical-align: top;\n",
       "    }\n",
       "\n",
       "    .dataframe thead th {\n",
       "        text-align: right;\n",
       "    }\n",
       "</style>\n",
       "<table border=\"1\" class=\"dataframe\">\n",
       "  <thead>\n",
       "    <tr style=\"text-align: right;\">\n",
       "      <th></th>\n",
       "      <th>ATVI</th>\n",
       "      <th>ADBE</th>\n",
       "      <th>AMD</th>\n",
       "      <th>ALGN</th>\n",
       "      <th>GOOGL</th>\n",
       "      <th>GOOG</th>\n",
       "      <th>AMZN</th>\n",
       "      <th>AAL</th>\n",
       "      <th>AMGN</th>\n",
       "      <th>ADI</th>\n",
       "      <th>...</th>\n",
       "      <th>VRSN</th>\n",
       "      <th>VRSK</th>\n",
       "      <th>VRTX</th>\n",
       "      <th>WBA</th>\n",
       "      <th>WDAY</th>\n",
       "      <th>WDC</th>\n",
       "      <th>WLTW</th>\n",
       "      <th>WYNN</th>\n",
       "      <th>XEL</th>\n",
       "      <th>XLNX</th>\n",
       "    </tr>\n",
       "    <tr>\n",
       "      <th>Date</th>\n",
       "      <th></th>\n",
       "      <th></th>\n",
       "      <th></th>\n",
       "      <th></th>\n",
       "      <th></th>\n",
       "      <th></th>\n",
       "      <th></th>\n",
       "      <th></th>\n",
       "      <th></th>\n",
       "      <th></th>\n",
       "      <th></th>\n",
       "      <th></th>\n",
       "      <th></th>\n",
       "      <th></th>\n",
       "      <th></th>\n",
       "      <th></th>\n",
       "      <th></th>\n",
       "      <th></th>\n",
       "      <th></th>\n",
       "      <th></th>\n",
       "      <th></th>\n",
       "    </tr>\n",
       "  </thead>\n",
       "  <tbody>\n",
       "    <tr>\n",
       "      <th>2015-12-30</th>\n",
       "      <td>37.931797</td>\n",
       "      <td>95.279999</td>\n",
       "      <td>2.98</td>\n",
       "      <td>66.099998</td>\n",
       "      <td>790.299988</td>\n",
       "      <td>771.000000</td>\n",
       "      <td>689.070007</td>\n",
       "      <td>40.901630</td>\n",
       "      <td>137.723129</td>\n",
       "      <td>49.810318</td>\n",
       "      <td>...</td>\n",
       "      <td>88.139999</td>\n",
       "      <td>76.025185</td>\n",
       "      <td>126.400002</td>\n",
       "      <td>72.629318</td>\n",
       "      <td>80.279999</td>\n",
       "      <td>52.720818</td>\n",
       "      <td>118.801224</td>\n",
       "      <td>62.168110</td>\n",
       "      <td>30.473986</td>\n",
       "      <td>43.330223</td>\n",
       "    </tr>\n",
       "    <tr>\n",
       "      <th>2015-12-31</th>\n",
       "      <td>37.239155</td>\n",
       "      <td>93.940002</td>\n",
       "      <td>2.87</td>\n",
       "      <td>65.849998</td>\n",
       "      <td>778.010010</td>\n",
       "      <td>758.880005</td>\n",
       "      <td>675.890015</td>\n",
       "      <td>40.471584</td>\n",
       "      <td>136.913467</td>\n",
       "      <td>48.726913</td>\n",
       "      <td>...</td>\n",
       "      <td>87.360001</td>\n",
       "      <td>75.407249</td>\n",
       "      <td>125.830002</td>\n",
       "      <td>71.595238</td>\n",
       "      <td>79.680000</td>\n",
       "      <td>51.823299</td>\n",
       "      <td>117.903053</td>\n",
       "      <td>62.666264</td>\n",
       "      <td>30.063749</td>\n",
       "      <td>42.542248</td>\n",
       "    </tr>\n",
       "    <tr>\n",
       "      <th>2016-01-04</th>\n",
       "      <td>36.190571</td>\n",
       "      <td>91.970001</td>\n",
       "      <td>2.77</td>\n",
       "      <td>64.269997</td>\n",
       "      <td>759.440002</td>\n",
       "      <td>741.840027</td>\n",
       "      <td>636.989990</td>\n",
       "      <td>39.095459</td>\n",
       "      <td>133.548172</td>\n",
       "      <td>47.951786</td>\n",
       "      <td>...</td>\n",
       "      <td>83.949997</td>\n",
       "      <td>73.857529</td>\n",
       "      <td>122.889999</td>\n",
       "      <td>69.821350</td>\n",
       "      <td>77.760002</td>\n",
       "      <td>52.125347</td>\n",
       "      <td>114.528839</td>\n",
       "      <td>62.285854</td>\n",
       "      <td>29.887941</td>\n",
       "      <td>41.482540</td>\n",
       "    </tr>\n",
       "    <tr>\n",
       "      <th>2016-01-05</th>\n",
       "      <td>35.728809</td>\n",
       "      <td>92.339996</td>\n",
       "      <td>2.75</td>\n",
       "      <td>64.949997</td>\n",
       "      <td>761.530029</td>\n",
       "      <td>742.580017</td>\n",
       "      <td>633.789978</td>\n",
       "      <td>38.722763</td>\n",
       "      <td>133.404785</td>\n",
       "      <td>47.599461</td>\n",
       "      <td>...</td>\n",
       "      <td>81.410004</td>\n",
       "      <td>73.592690</td>\n",
       "      <td>123.449997</td>\n",
       "      <td>67.988579</td>\n",
       "      <td>77.239998</td>\n",
       "      <td>51.900967</td>\n",
       "      <td>115.316803</td>\n",
       "      <td>63.463291</td>\n",
       "      <td>30.189337</td>\n",
       "      <td>42.098431</td>\n",
       "    </tr>\n",
       "    <tr>\n",
       "      <th>2016-01-06</th>\n",
       "      <td>35.392109</td>\n",
       "      <td>91.019997</td>\n",
       "      <td>2.51</td>\n",
       "      <td>64.870003</td>\n",
       "      <td>759.330017</td>\n",
       "      <td>743.619995</td>\n",
       "      <td>632.650024</td>\n",
       "      <td>39.401268</td>\n",
       "      <td>132.181839</td>\n",
       "      <td>45.573589</td>\n",
       "      <td>...</td>\n",
       "      <td>81.019997</td>\n",
       "      <td>73.210167</td>\n",
       "      <td>122.230003</td>\n",
       "      <td>66.946083</td>\n",
       "      <td>74.400002</td>\n",
       "      <td>50.744545</td>\n",
       "      <td>115.316803</td>\n",
       "      <td>60.175549</td>\n",
       "      <td>30.507462</td>\n",
       "      <td>41.328568</td>\n",
       "    </tr>\n",
       "  </tbody>\n",
       "</table>\n",
       "<p>5 rows × 91 columns</p>\n",
       "</div>"
      ],
      "text/plain": [
       "                 ATVI       ADBE   AMD       ALGN       GOOGL        GOOG  \\\n",
       "Date                                                                        \n",
       "2015-12-30  37.931797  95.279999  2.98  66.099998  790.299988  771.000000   \n",
       "2015-12-31  37.239155  93.940002  2.87  65.849998  778.010010  758.880005   \n",
       "2016-01-04  36.190571  91.970001  2.77  64.269997  759.440002  741.840027   \n",
       "2016-01-05  35.728809  92.339996  2.75  64.949997  761.530029  742.580017   \n",
       "2016-01-06  35.392109  91.019997  2.51  64.870003  759.330017  743.619995   \n",
       "\n",
       "                  AMZN        AAL        AMGN        ADI  ...       VRSN  \\\n",
       "Date                                                      ...              \n",
       "2015-12-30  689.070007  40.901630  137.723129  49.810318  ...  88.139999   \n",
       "2015-12-31  675.890015  40.471584  136.913467  48.726913  ...  87.360001   \n",
       "2016-01-04  636.989990  39.095459  133.548172  47.951786  ...  83.949997   \n",
       "2016-01-05  633.789978  38.722763  133.404785  47.599461  ...  81.410004   \n",
       "2016-01-06  632.650024  39.401268  132.181839  45.573589  ...  81.019997   \n",
       "\n",
       "                 VRSK        VRTX        WBA       WDAY        WDC  \\\n",
       "Date                                                                 \n",
       "2015-12-30  76.025185  126.400002  72.629318  80.279999  52.720818   \n",
       "2015-12-31  75.407249  125.830002  71.595238  79.680000  51.823299   \n",
       "2016-01-04  73.857529  122.889999  69.821350  77.760002  52.125347   \n",
       "2016-01-05  73.592690  123.449997  67.988579  77.239998  51.900967   \n",
       "2016-01-06  73.210167  122.230003  66.946083  74.400002  50.744545   \n",
       "\n",
       "                  WLTW       WYNN        XEL       XLNX  \n",
       "Date                                                     \n",
       "2015-12-30  118.801224  62.168110  30.473986  43.330223  \n",
       "2015-12-31  117.903053  62.666264  30.063749  42.542248  \n",
       "2016-01-04  114.528839  62.285854  29.887941  41.482540  \n",
       "2016-01-05  115.316803  63.463291  30.189337  42.098431  \n",
       "2016-01-06  115.316803  60.175549  30.507462  41.328568  \n",
       "\n",
       "[5 rows x 91 columns]"
      ]
     },
     "execution_count": 2,
     "metadata": {},
     "output_type": "execute_result"
    }
   ],
   "source": [
    "# Load data\n",
    "stocks_data = pd.read_pickle('data/nasdaq100_6y.pkl')\n",
    "index_data = pd.read_pickle('data/nasdaq100_index_6y.pkl')\n",
    "assets_names = stocks_data.columns.values\n",
    "\n",
    "data_assets = stocks_data\n",
    "data_index = index_data\n",
    "\n",
    "print(\"Stocks data (time series) shape: {shape}\".format(shape=stocks_data.shape))\n",
    "print(\"Index data (time series) shape: {shape}\".format(shape=index_data.shape))\n",
    "\n",
    "stocks_data.head()"
   ]
  },
  {
   "cell_type": "code",
   "execution_count": 3,
   "metadata": {
    "collapsed": true
   },
   "outputs": [],
   "source": [
    "# Split data\n",
    "n_train = int(data_assets.shape[0]*0.8)\n",
    "\n",
    "# Stocks data\n",
    "X_train = data_assets.values[:n_train, :]\n",
    "X_test = data_assets.values[n_train:, :]\n",
    "\n",
    "# Index data\n",
    "index_train = data_index[:n_train]\n",
    "index_test = data_index[n_train:]"
   ]
  },
  {
   "cell_type": "code",
   "execution_count": 4,
   "metadata": {
    "collapsed": true
   },
   "outputs": [
    {
     "name": "stderr",
     "output_type": "stream",
     "text": [
      "/opt/anaconda3/envs/fastai/lib/python3.7/site-packages/ipykernel_launcher.py:8: FutureWarning: Support for multi-dimensional indexing (e.g. `obj[:, None]`) is deprecated and will be removed in a future version.  Convert to a numpy array before indexing instead.\n",
      "  \n",
      "/opt/anaconda3/envs/fastai/lib/python3.7/site-packages/ipykernel_launcher.py:9: FutureWarning: Support for multi-dimensional indexing (e.g. `obj[:, None]`) is deprecated and will be removed in a future version.  Convert to a numpy array before indexing instead.\n",
      "  if __name__ == '__main__':\n"
     ]
    }
   ],
   "source": [
    "# Normalize data\n",
    "scaler = MinMaxScaler([0, 1])\n",
    "# Stocks data\n",
    "X_train = scaler.fit_transform(X_train)\n",
    "X_test = scaler.fit_transform(X_test)\n",
    "# Index data\n",
    "scaler_index = MinMaxScaler([0, 1])\n",
    "index_train = scaler_index.fit_transform(index_train[:, np.newaxis])\n",
    "index_test = scaler_index.fit_transform(index_test[:, np.newaxis])"
   ]
  },
  {
   "cell_type": "code",
   "execution_count": 5,
   "metadata": {
    "collapsed": true
   },
   "outputs": [],
   "source": [
    "## Autoencoder - Keras\n",
    "\n",
    "# Network hyperparameters\n",
    "n_inputs = X_train.shape[1]\n",
    "\n",
    "# Training hyperparameters\n",
    "epochs = 50\n",
    "batch_size = 1\n",
    "\n",
    "# Define model\n",
    "input = Input(shape=(n_inputs,))\n",
    "# Encoder Layers\n",
    "encoded = Dense(8, input_shape=(n_inputs,), activation='relu')(input)\n",
    "encoded = Dense(4, activation='relu')(encoded)\n",
    "decoded = Dense(8, activation='relu')(encoded)\n",
    "decoded = Dense(n_inputs, activation='sigmoid')(decoded)\n",
    "\n",
    "# Encoder\n",
    "encoder = Model(input, encoded)\n",
    "\n",
    "# Autoencoder\n",
    "model = Model(input, decoded)"
   ]
  },
  {
   "cell_type": "code",
   "execution_count": 6,
   "metadata": {
    "collapsed": false
   },
   "outputs": [
    {
     "name": "stdout",
     "output_type": "stream",
     "text": [
      "Model: \"model_1\"\n",
      "_________________________________________________________________\n",
      "Layer (type)                 Output Shape              Param #   \n",
      "=================================================================\n",
      "input_1 (InputLayer)         [(None, 91)]              0         \n",
      "_________________________________________________________________\n",
      "dense (Dense)                (None, 8)                 736       \n",
      "_________________________________________________________________\n",
      "dense_1 (Dense)              (None, 4)                 36        \n",
      "_________________________________________________________________\n",
      "dense_2 (Dense)              (None, 8)                 40        \n",
      "_________________________________________________________________\n",
      "dense_3 (Dense)              (None, 91)                819       \n",
      "=================================================================\n",
      "Total params: 1,631\n",
      "Trainable params: 1,631\n",
      "Non-trainable params: 0\n",
      "_________________________________________________________________\n"
     ]
    }
   ],
   "source": [
    "# Compile autoencoder\n",
    "model.compile(loss='mse', optimizer='adam')\n",
    "model.summary()"
   ]
  },
  {
   "cell_type": "code",
   "execution_count": 7,
   "metadata": {
    "collapsed": false
   },
   "outputs": [
    {
     "name": "stdout",
     "output_type": "stream",
     "text": [
      "Epoch 1/50\n",
      "1209/1209 [==============================] - 1s 850us/step - loss: 0.0494\n",
      "Epoch 2/50\n",
      "1209/1209 [==============================] - 1s 830us/step - loss: 0.0146\n",
      "Epoch 3/50\n",
      "1209/1209 [==============================] - 1s 941us/step - loss: 0.0117\n",
      "Epoch 4/50\n",
      "1209/1209 [==============================] - 1s 744us/step - loss: 0.0109\n",
      "Epoch 5/50\n",
      "1209/1209 [==============================] - 1s 778us/step - loss: 0.0094\n",
      "Epoch 6/50\n",
      "1209/1209 [==============================] - 1s 838us/step - loss: 0.0084\n",
      "Epoch 7/50\n",
      "1209/1209 [==============================] - 1s 807us/step - loss: 0.0080\n",
      "Epoch 8/50\n",
      "1209/1209 [==============================] - 1s 793us/step - loss: 0.0072\n",
      "Epoch 9/50\n",
      "1209/1209 [==============================] - 1s 789us/step - loss: 0.0069\n",
      "Epoch 10/50\n",
      "1209/1209 [==============================] - 1s 1ms/step - loss: 0.0065\n",
      "Epoch 11/50\n",
      "1209/1209 [==============================] - 1s 994us/step - loss: 0.0061\n",
      "Epoch 12/50\n",
      "1209/1209 [==============================] - 1s 1ms/step - loss: 0.0060\n",
      "Epoch 13/50\n",
      "1209/1209 [==============================] - 1s 868us/step - loss: 0.0058\n",
      "Epoch 14/50\n",
      "1209/1209 [==============================] - 1s 998us/step - loss: 0.0056\n",
      "Epoch 15/50\n",
      "1209/1209 [==============================] - 1s 1000us/step - loss: 0.0055\n",
      "Epoch 16/50\n",
      "1209/1209 [==============================] - 1s 865us/step - loss: 0.0054\n",
      "Epoch 17/50\n",
      "1209/1209 [==============================] - 1s 756us/step - loss: 0.0053\n",
      "Epoch 18/50\n",
      "1209/1209 [==============================] - 1s 886us/step - loss: 0.0052\n",
      "Epoch 19/50\n",
      "1209/1209 [==============================] - 1s 1ms/step - loss: 0.0053\n",
      "Epoch 20/50\n",
      "1209/1209 [==============================] - 1s 1ms/step - loss: 0.0054\n",
      "Epoch 21/50\n",
      "1209/1209 [==============================] - 1s 770us/step - loss: 0.0053\n",
      "Epoch 22/50\n",
      "1209/1209 [==============================] - 1s 820us/step - loss: 0.0052\n",
      "Epoch 23/50\n",
      "1209/1209 [==============================] - 1s 821us/step - loss: 0.0052\n",
      "Epoch 24/50\n",
      "1209/1209 [==============================] - 1s 807us/step - loss: 0.0052\n",
      "Epoch 25/50\n",
      "1209/1209 [==============================] - 1s 807us/step - loss: 0.0051\n",
      "Epoch 26/50\n",
      "1209/1209 [==============================] - 1s 869us/step - loss: 0.0051\n",
      "Epoch 27/50\n",
      "1209/1209 [==============================] - 1s 1ms/step - loss: 0.0051\n",
      "Epoch 28/50\n",
      "1209/1209 [==============================] - 1s 1ms/step - loss: 0.0051\n",
      "Epoch 29/50\n",
      "1209/1209 [==============================] - 1s 836us/step - loss: 0.0051\n",
      "Epoch 30/50\n",
      "1209/1209 [==============================] - 1s 1ms/step - loss: 0.0050\n",
      "Epoch 31/50\n",
      "1209/1209 [==============================] - 1s 755us/step - loss: 0.0050\n",
      "Epoch 32/50\n",
      "1209/1209 [==============================] - 1s 738us/step - loss: 0.0050\n",
      "Epoch 33/50\n",
      "1209/1209 [==============================] - 1s 854us/step - loss: 0.0051\n",
      "Epoch 34/50\n",
      "1209/1209 [==============================] - 1s 769us/step - loss: 0.0051\n",
      "Epoch 35/50\n",
      "1209/1209 [==============================] - 1s 752us/step - loss: 0.0051\n",
      "Epoch 36/50\n",
      "1209/1209 [==============================] - 1s 753us/step - loss: 0.0050\n",
      "Epoch 37/50\n",
      "1209/1209 [==============================] - 1s 858us/step - loss: 0.0049\n",
      "Epoch 38/50\n",
      "1209/1209 [==============================] - 1s 814us/step - loss: 0.0049\n",
      "Epoch 39/50\n",
      "1209/1209 [==============================] - 1s 740us/step - loss: 0.0050\n",
      "Epoch 40/50\n",
      "1209/1209 [==============================] - 1s 752us/step - loss: 0.0050\n",
      "Epoch 41/50\n",
      "1209/1209 [==============================] - 1s 748us/step - loss: 0.0050\n",
      "Epoch 42/50\n",
      "1209/1209 [==============================] - 1s 774us/step - loss: 0.0049\n",
      "Epoch 43/50\n",
      "1209/1209 [==============================] - 1s 745us/step - loss: 0.0050\n",
      "Epoch 44/50\n",
      "1209/1209 [==============================] - 1s 750us/step - loss: 0.0049\n",
      "Epoch 45/50\n",
      "1209/1209 [==============================] - 1s 758us/step - loss: 0.0050\n",
      "Epoch 46/50\n",
      "1209/1209 [==============================] - 1s 926us/step - loss: 0.0049\n",
      "Epoch 47/50\n",
      "1209/1209 [==============================] - 1s 765us/step - loss: 0.0049\n",
      "Epoch 48/50\n",
      "1209/1209 [==============================] - 1s 735us/step - loss: 0.0049\n",
      "Epoch 49/50\n",
      "1209/1209 [==============================] - 1s 725us/step - loss: 0.0050\n",
      "Epoch 50/50\n",
      "1209/1209 [==============================] - 1s 862us/step - loss: 0.0048\n"
     ]
    }
   ],
   "source": [
    "# Fit the model\n",
    "history = model.fit(X_train,\n",
    "                    X_train,\n",
    "                    epochs=epochs,\n",
    "                    batch_size=batch_size,\n",
    "                    shuffle=True,\n",
    "                    verbose=1\n",
    "                    )"
   ]
  },
  {
   "cell_type": "code",
   "execution_count": 8,
   "metadata": {
    "collapsed": false
   },
   "outputs": [
    {
     "data": {
      "image/png": "[encoded data removed]",
      "text/plain": [
       "<Figure size 432x288 with 1 Axes>"
      ]
     },
     "metadata": {
      "needs_background": "light"
     },
     "output_type": "display_data"
    }
   ],
   "source": [
    "# Visualize loss history\n",
    "plt.figure()\n",
    "plt.plot(history.history['loss'])\n",
    "plt.ylabel('Loss')\n",
    "plt.xlabel('Epoch')\n",
    "plt.show()\n",
    "#plt.savefig('images/DAE_loss.eps', bbox_inches='tight')"
   ]
  },
  {
   "cell_type": "code",
   "execution_count": 9,
   "metadata": {
    "collapsed": true
   },
   "outputs": [],
   "source": [
    "#from keras.models import model_from_json\n",
    "#\n",
    "## Save model\n",
    "## serialize model to JSON\n",
    "#model_json = model.to_json()\n",
    "#with open(\"models/DAE_model.json\", \"w\") as json_file:\n",
    "#    json_file.write(model_json)\n",
    "## serialize weights to HDF5\n",
    "#model.save_weights(\"models/DAE_model.h5\")"
   ]
  },
  {
   "cell_type": "code",
   "execution_count": 10,
   "metadata": {
    "collapsed": true
   },
   "outputs": [],
   "source": [
    "#from keras.models import model_from_json\n",
    "#\n",
    "## load json and create model\n",
    "#json_file = open('models/DAE_model.json', 'r')\n",
    "#loaded_model_json = json_file.read()\n",
    "#json_file.close()\n",
    "#model = model_from_json(loaded_model_json)\n",
    "## load weights into new model\n",
    "#model.load_weights(\"models/DAE_model.h5\")"
   ]
  },
  {
   "cell_type": "code",
   "execution_count": 11,
   "metadata": {
    "collapsed": false
   },
   "outputs": [
    {
     "name": "stdout",
     "output_type": "stream",
     "text": [
      "1209/1209 [==============================] - 1s 601us/step - loss: 0.0049\n",
      "303/303 [==============================] - 0s 944us/step - loss: 0.0552\n",
      "Training MSE: 0.00491864\n",
      "Training MSE: 0.05517435\n"
     ]
    }
   ],
   "source": [
    "# Evaluate model\n",
    "score_train = model.evaluate(X_train, X_train, batch_size=batch_size)\n",
    "score_test = model.evaluate(X_test, X_test, batch_size=batch_size)\n",
    "\n",
    "print('Training MSE: %.8f' %score_train)\n",
    "print('Training MSE: %.8f' %score_test)"
   ]
  },
  {
   "cell_type": "code",
   "execution_count": 12,
   "metadata": {
    "collapsed": false
   },
   "outputs": [
    {
     "name": "stdout",
     "output_type": "stream",
     "text": [
      "Training MSE: 0.00491864\n",
      "Testing MSE: 0.05517435\n"
     ]
    }
   ],
   "source": [
    "# Obtain reconstruction of the stocks\n",
    "X_train_pred = model.predict(X_train)\n",
    "X_test_pred = model.predict(X_test)\n",
    "\n",
    "error = np.mean(np.abs(X_train - X_train_pred)**2, axis=0)\n",
    "print('Training MSE: %.8f' %np.mean(error))\n",
    "\n",
    "error_test = np.mean(np.abs(X_test - X_test_pred)**2, axis=0)\n",
    "print('Testing MSE: %.8f' %np.mean(error_test))"
   ]
  },
  {
   "cell_type": "code",
   "execution_count": 13,
   "metadata": {
    "collapsed": true
   },
   "outputs": [],
   "source": [
    "# Sort stocks by reconstruction error\n",
    "ind = np.argsort(error)\n",
    "sort_error = error[ind]\n",
    "sort_assets_names = assets_names[ind]"
   ]
  },
  {
   "cell_type": "code",
   "execution_count": 14,
   "metadata": {
    "collapsed": false
   },
   "outputs": [
    {
     "data": {
      "image/png": "[encoded data removed]",
      "text/plain": [
       "<Figure size 432x288 with 1 Axes>"
      ]
     },
     "metadata": {
      "needs_background": "light"
     },
     "output_type": "display_data"
    }
   ],
   "source": [
    "# Barplot\n",
    "plt.figure()\n",
    "plt.barh(2*np.arange(len(error[:20])), error[ind[:20]], tick_label=assets_names[ind[:20]])\n",
    "plt.xlabel('MSE')\n",
    "plt.show()\n",
    "#plt.savefig('images/DAE_MSEbar.eps', bbox_inches='tight')"
   ]
  },
  {
   "cell_type": "code",
   "execution_count": 15,
   "metadata": {
    "collapsed": false
   },
   "outputs": [
    {
     "data": {
      "image/png": "[encoded data removed]",
      "text/plain": [
       "<Figure size 432x288 with 1 Axes>"
      ]
     },
     "metadata": {
      "needs_background": "light"
     },
     "output_type": "display_data"
    }
   ],
   "source": [
    "# Plot stock\n",
    "i=0\n",
    "plt.figure()\n",
    "plt.plot(X_train[:, ind[i]], label=assets_names[ind[i]] + ' Stock')\n",
    "plt.plot(X_train_pred[:, ind[i]], label=assets_names[ind[i]] + ' AE')\n",
    "plt.legend()\n",
    "plt.xlabel('Time (days)')\n",
    "plt.ylabel('Normalized price')\n",
    "plt.show()\n",
    "#plt.savefig('images/DAE_' + assets_names[ind[i]] + '.eps', bbox_inches='tight')"
   ]
  },
  {
   "cell_type": "code",
   "execution_count": 16,
   "metadata": {
    "collapsed": true
   },
   "outputs": [],
   "source": [
    "# Identify stocks\n",
    "n = 5\n",
    "\n",
    "portfolio_train = X_train_pred[:, ind[:n]]\n",
    "portfolio_test = X_test_pred[:, ind[:n]]\n",
    "\n",
    "# Create portfolio in-sample\n",
    "tracked_index_insample = np.mean(portfolio_train, axis=1)\n",
    "\n",
    "# Create portfolio out-sample\n",
    "tracked_index_outofsample = np.mean(portfolio_test, axis=1)"
   ]
  },
  {
   "cell_type": "code",
   "execution_count": 17,
   "metadata": {
    "collapsed": false
   },
   "outputs": [
    {
     "data": {
      "image/png": "[encoded data removed]",
      "text/plain": [
       "<Figure size 432x288 with 1 Axes>"
      ]
     },
     "metadata": {
      "needs_background": "light"
     },
     "output_type": "display_data"
    }
   ],
   "source": [
    "# In-sample\n",
    "plt.figure()\n",
    "plt.plot(index_train, label='Nasdaq100 Index')\n",
    "plt.plot(tracked_index_insample, label='Tracked Index')\n",
    "plt.legend()\n",
    "plt.xlabel('Time (days)')\n",
    "plt.ylabel('Normalized price')\n",
    "plt.show()\n",
    "#plt.savefig('images/DAE_insample.png', bbox_inches='tight')"
   ]
  },
  {
   "cell_type": "code",
   "execution_count": 18,
   "metadata": {
    "collapsed": false
   },
   "outputs": [
    {
     "name": "stdout",
     "output_type": "stream",
     "text": [
      "Correlation coefficient (in-sample): 0.98487414\n"
     ]
    }
   ],
   "source": [
    "# Correlation coefficient (in-sample)\n",
    "corr_train = np.corrcoef(index_train.squeeze(), tracked_index_insample)[0, 1]\n",
    "print('Correlation coefficient (in-sample): %.8f' %corr_train)"
   ]
  },
  {
   "cell_type": "code",
   "execution_count": 19,
   "metadata": {
    "collapsed": false
   },
   "outputs": [
    {
     "data": {
      "image/png": "[encoded data removed]",
      "text/plain": [
       "<Figure size 432x288 with 1 Axes>"
      ]
     },
     "metadata": {
      "needs_background": "light"
     },
     "output_type": "display_data"
    }
   ],
   "source": [
    "# Plot tracked index (out-of-sample)\n",
    "plt.figure()\n",
    "plt.plot(index_test, label='Nasdaq100 Index')\n",
    "plt.plot(tracked_index_outofsample, label='Tracked Index')\n",
    "plt.legend()\n",
    "plt.xlabel('Time (days)')\n",
    "plt.ylabel('Normalized price')\n",
    "plt.show()\n",
    "#plt.savefig('images/DAE_outofsample.png', bbox_inches='tight')"
   ]
  },
  {
   "cell_type": "code",
   "execution_count": 20,
   "metadata": {
    "collapsed": false
   },
   "outputs": [
    {
     "name": "stdout",
     "output_type": "stream",
     "text": [
      "Correlation coefficient: 0.91380397\n"
     ]
    }
   ],
   "source": [
    "# Correlation coefficient (out-of-sample)\n",
    "corr_test = np.corrcoef(index_test.squeeze(), tracked_index_outofsample)[0, 1]\n",
    "print('Correlation coefficient: %.8f' %corr_test)"
   ]
  },
  {
   "cell_type": "code",
   "execution_count": null,
   "metadata": {
    "collapsed": true
   },
   "outputs": [],
   "source": []
  }
 ],
 "metadata": {
  "kernelspec": {
   "display_name": "Python 3",
   "language": "python",
   "name": "python3"
  },
  "language_info": {
   "codemirror_mode": {
    "name": "ipython",
    "version": 3
   },
   "file_extension": ".py",
   "mimetype": "text/x-python",
   "name": "python",
   "nbconvert_exporter": "python",
   "pygments_lexer": "ipython3",
   "version": "3.7.9"
  }
 },
 "nbformat": 4,
 "nbformat_minor": 1
}
