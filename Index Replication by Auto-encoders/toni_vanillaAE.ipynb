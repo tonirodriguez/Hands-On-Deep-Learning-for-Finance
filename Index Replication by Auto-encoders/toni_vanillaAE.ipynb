{
 "cells": [
  {
   "cell_type": "code",
   "execution_count": 1,
   "metadata": {
    "collapsed": false
   },
   "outputs": [],
   "source": [
    "import pandas as pd\n",
    "import numpy as np\n",
    "from scipy import stats\n",
    "\n",
    "import matplotlib.pyplot as plt\n",
    "\n",
    "from sklearn.preprocessing import MinMaxScaler\n",
    "\n",
    "from tensorflow.keras.models import Sequential, Model\n",
    "from tensorflow.keras.layers import Dense, Input\n",
    "from tensorflow.keras import regularizers"
   ]
  },
  {
   "cell_type": "code",
   "execution_count": 2,
   "metadata": {
    "collapsed": false
   },
   "outputs": [
    {
     "name": "stdout",
     "output_type": "stream",
     "text": [
      "Stocks data (time series) shape: (253, 101)\n",
      "Index data (time series) shape: (253,)\n"
     ]
    },
    {
     "data": {
      "text/html": [
       "<div>\n",
       "<style scoped>\n",
       "    .dataframe tbody tr th:only-of-type {\n",
       "        vertical-align: middle;\n",
       "    }\n",
       "\n",
       "    .dataframe tbody tr th {\n",
       "        vertical-align: top;\n",
       "    }\n",
       "\n",
       "    .dataframe thead th {\n",
       "        text-align: right;\n",
       "    }\n",
       "</style>\n",
       "<table border=\"1\" class=\"dataframe\">\n",
       "  <thead>\n",
       "    <tr style=\"text-align: right;\">\n",
       "      <th></th>\n",
       "      <th>ATVI</th>\n",
       "      <th>ADBE</th>\n",
       "      <th>AMD</th>\n",
       "      <th>ABNB</th>\n",
       "      <th>ALGN</th>\n",
       "      <th>GOOGL</th>\n",
       "      <th>GOOG</th>\n",
       "      <th>AMZN</th>\n",
       "      <th>AEP</th>\n",
       "      <th>AMGN</th>\n",
       "      <th>...</th>\n",
       "      <th>TXN</th>\n",
       "      <th>VRSN</th>\n",
       "      <th>VRSK</th>\n",
       "      <th>VRTX</th>\n",
       "      <th>WBA</th>\n",
       "      <th>WDAY</th>\n",
       "      <th>XEL</th>\n",
       "      <th>XLNX</th>\n",
       "      <th>ZM</th>\n",
       "      <th>ZS</th>\n",
       "    </tr>\n",
       "    <tr>\n",
       "      <th>Date</th>\n",
       "      <th></th>\n",
       "      <th></th>\n",
       "      <th></th>\n",
       "      <th></th>\n",
       "      <th></th>\n",
       "      <th></th>\n",
       "      <th></th>\n",
       "      <th></th>\n",
       "      <th></th>\n",
       "      <th></th>\n",
       "      <th></th>\n",
       "      <th></th>\n",
       "      <th></th>\n",
       "      <th></th>\n",
       "      <th></th>\n",
       "      <th></th>\n",
       "      <th></th>\n",
       "      <th></th>\n",
       "      <th></th>\n",
       "      <th></th>\n",
       "      <th></th>\n",
       "    </tr>\n",
       "  </thead>\n",
       "  <tbody>\n",
       "    <tr>\n",
       "      <th>2020-12-30</th>\n",
       "      <td>91.138718</td>\n",
       "      <td>497.450012</td>\n",
       "      <td>92.290001</td>\n",
       "      <td>148.429993</td>\n",
       "      <td>524.320007</td>\n",
       "      <td>1736.250000</td>\n",
       "      <td>1739.520020</td>\n",
       "      <td>3285.850098</td>\n",
       "      <td>78.685181</td>\n",
       "      <td>220.353027</td>\n",
       "      <td>...</td>\n",
       "      <td>158.960602</td>\n",
       "      <td>214.500000</td>\n",
       "      <td>204.539963</td>\n",
       "      <td>232.679993</td>\n",
       "      <td>37.892834</td>\n",
       "      <td>236.929993</td>\n",
       "      <td>63.854073</td>\n",
       "      <td>141.834656</td>\n",
       "      <td>353.399994</td>\n",
       "      <td>201.309998</td>\n",
       "    </tr>\n",
       "    <tr>\n",
       "      <th>2020-12-31</th>\n",
       "      <td>92.402596</td>\n",
       "      <td>500.119995</td>\n",
       "      <td>91.709999</td>\n",
       "      <td>146.800003</td>\n",
       "      <td>534.380005</td>\n",
       "      <td>1752.640015</td>\n",
       "      <td>1751.880005</td>\n",
       "      <td>3256.929932</td>\n",
       "      <td>80.384186</td>\n",
       "      <td>223.020477</td>\n",
       "      <td>...</td>\n",
       "      <td>160.357758</td>\n",
       "      <td>216.399994</td>\n",
       "      <td>206.339066</td>\n",
       "      <td>236.339996</td>\n",
       "      <td>38.412971</td>\n",
       "      <td>239.610001</td>\n",
       "      <td>64.846153</td>\n",
       "      <td>141.505264</td>\n",
       "      <td>337.320007</td>\n",
       "      <td>199.710007</td>\n",
       "    </tr>\n",
       "    <tr>\n",
       "      <th>2021-01-04</th>\n",
       "      <td>89.466812</td>\n",
       "      <td>485.339996</td>\n",
       "      <td>92.300003</td>\n",
       "      <td>139.149994</td>\n",
       "      <td>526.460022</td>\n",
       "      <td>1726.130005</td>\n",
       "      <td>1728.239990</td>\n",
       "      <td>3186.629883</td>\n",
       "      <td>78.714142</td>\n",
       "      <td>219.858322</td>\n",
       "      <td>...</td>\n",
       "      <td>158.491638</td>\n",
       "      <td>213.580002</td>\n",
       "      <td>201.657471</td>\n",
       "      <td>229.429993</td>\n",
       "      <td>39.877052</td>\n",
       "      <td>228.080002</td>\n",
       "      <td>63.863796</td>\n",
       "      <td>142.164032</td>\n",
       "      <td>359.980011</td>\n",
       "      <td>196.089996</td>\n",
       "    </tr>\n",
       "    <tr>\n",
       "      <th>2021-01-05</th>\n",
       "      <td>90.253006</td>\n",
       "      <td>485.690002</td>\n",
       "      <td>92.769997</td>\n",
       "      <td>148.300003</td>\n",
       "      <td>543.650024</td>\n",
       "      <td>1740.050049</td>\n",
       "      <td>1740.920044</td>\n",
       "      <td>3218.510010</td>\n",
       "      <td>78.607956</td>\n",
       "      <td>220.925308</td>\n",
       "      <td>...</td>\n",
       "      <td>159.654282</td>\n",
       "      <td>206.500000</td>\n",
       "      <td>200.752945</td>\n",
       "      <td>228.580002</td>\n",
       "      <td>39.645882</td>\n",
       "      <td>225.360001</td>\n",
       "      <td>63.241299</td>\n",
       "      <td>143.960663</td>\n",
       "      <td>360.829987</td>\n",
       "      <td>193.479996</td>\n",
       "    </tr>\n",
       "    <tr>\n",
       "      <th>2021-01-06</th>\n",
       "      <td>87.575966</td>\n",
       "      <td>466.309998</td>\n",
       "      <td>90.330002</td>\n",
       "      <td>142.770004</td>\n",
       "      <td>540.390015</td>\n",
       "      <td>1722.880005</td>\n",
       "      <td>1735.290039</td>\n",
       "      <td>3138.379883</td>\n",
       "      <td>79.235428</td>\n",
       "      <td>226.250565</td>\n",
       "      <td>...</td>\n",
       "      <td>160.445679</td>\n",
       "      <td>199.509995</td>\n",
       "      <td>198.854446</td>\n",
       "      <td>226.649994</td>\n",
       "      <td>41.447094</td>\n",
       "      <td>220.000000</td>\n",
       "      <td>64.641907</td>\n",
       "      <td>140.956299</td>\n",
       "      <td>344.410004</td>\n",
       "      <td>184.419998</td>\n",
       "    </tr>\n",
       "  </tbody>\n",
       "</table>\n",
       "<p>5 rows × 101 columns</p>\n",
       "</div>"
      ],
      "text/plain": [
       "                 ATVI        ADBE        AMD        ABNB        ALGN  \\\n",
       "Date                                                                   \n",
       "2020-12-30  91.138718  497.450012  92.290001  148.429993  524.320007   \n",
       "2020-12-31  92.402596  500.119995  91.709999  146.800003  534.380005   \n",
       "2021-01-04  89.466812  485.339996  92.300003  139.149994  526.460022   \n",
       "2021-01-05  90.253006  485.690002  92.769997  148.300003  543.650024   \n",
       "2021-01-06  87.575966  466.309998  90.330002  142.770004  540.390015   \n",
       "\n",
       "                  GOOGL         GOOG         AMZN        AEP        AMGN  ...  \\\n",
       "Date                                                                      ...   \n",
       "2020-12-30  1736.250000  1739.520020  3285.850098  78.685181  220.353027  ...   \n",
       "2020-12-31  1752.640015  1751.880005  3256.929932  80.384186  223.020477  ...   \n",
       "2021-01-04  1726.130005  1728.239990  3186.629883  78.714142  219.858322  ...   \n",
       "2021-01-05  1740.050049  1740.920044  3218.510010  78.607956  220.925308  ...   \n",
       "2021-01-06  1722.880005  1735.290039  3138.379883  79.235428  226.250565  ...   \n",
       "\n",
       "                   TXN        VRSN        VRSK        VRTX        WBA  \\\n",
       "Date                                                                    \n",
       "2020-12-30  158.960602  214.500000  204.539963  232.679993  37.892834   \n",
       "2020-12-31  160.357758  216.399994  206.339066  236.339996  38.412971   \n",
       "2021-01-04  158.491638  213.580002  201.657471  229.429993  39.877052   \n",
       "2021-01-05  159.654282  206.500000  200.752945  228.580002  39.645882   \n",
       "2021-01-06  160.445679  199.509995  198.854446  226.649994  41.447094   \n",
       "\n",
       "                  WDAY        XEL        XLNX          ZM          ZS  \n",
       "Date                                                                   \n",
       "2020-12-30  236.929993  63.854073  141.834656  353.399994  201.309998  \n",
       "2020-12-31  239.610001  64.846153  141.505264  337.320007  199.710007  \n",
       "2021-01-04  228.080002  63.863796  142.164032  359.980011  196.089996  \n",
       "2021-01-05  225.360001  63.241299  143.960663  360.829987  193.479996  \n",
       "2021-01-06  220.000000  64.641907  140.956299  344.410004  184.419998  \n",
       "\n",
       "[5 rows x 101 columns]"
      ]
     },
     "execution_count": 2,
     "metadata": {},
     "output_type": "execute_result"
    }
   ],
   "source": [
    "# Load data\n",
    "stocks_data = pd.read_pickle('current_data/nsx100_10y.pkl')\n",
    "index_data = pd.read_pickle('current_data/nsx100_index_10y.pkl')\n",
    "assets_names = stocks_data.columns.values\n",
    "\n",
    "data_assets = stocks_data\n",
    "data_index = index_data\n",
    "\n",
    "print(\"Stocks data (time series) shape: {shape}\".format(shape=stocks_data.shape))\n",
    "print(\"Index data (time series) shape: {shape}\".format(shape=index_data.shape))\n",
    "\n",
    "stocks_data.head()"
   ]
  },
  {
   "cell_type": "code",
   "execution_count": 3,
   "metadata": {
    "collapsed": true
   },
   "outputs": [],
   "source": [
    "# Split data\n",
    "n_train = int(data_assets.shape[0]*0.8)\n",
    "\n",
    "# Stocks data\n",
    "X_train = data_assets.values[:n_train, :]\n",
    "X_test = data_assets.values[n_train:, :]\n",
    "\n",
    "# Index data\n",
    "index_train = data_index[:n_train]\n",
    "index_test = data_index[n_train:]"
   ]
  },
  {
   "cell_type": "code",
   "execution_count": 4,
   "metadata": {
    "collapsed": true
   },
   "outputs": [
    {
     "name": "stderr",
     "output_type": "stream",
     "text": [
      "/opt/anaconda3/envs/fastai/lib/python3.7/site-packages/ipykernel_launcher.py:8: FutureWarning: Support for multi-dimensional indexing (e.g. `obj[:, None]`) is deprecated and will be removed in a future version.  Convert to a numpy array before indexing instead.\n",
      "  \n",
      "/opt/anaconda3/envs/fastai/lib/python3.7/site-packages/ipykernel_launcher.py:9: FutureWarning: Support for multi-dimensional indexing (e.g. `obj[:, None]`) is deprecated and will be removed in a future version.  Convert to a numpy array before indexing instead.\n",
      "  if __name__ == '__main__':\n"
     ]
    }
   ],
   "source": [
    "# Normalize data\n",
    "scaler = MinMaxScaler([0, 1])\n",
    "# Stocks data\n",
    "X_train = scaler.fit_transform(X_train)\n",
    "X_test = scaler.fit_transform(X_test)\n",
    "# Index data\n",
    "scaler_index = MinMaxScaler([0, 1])\n",
    "index_train = scaler_index.fit_transform(index_train[:, np.newaxis])\n",
    "index_test = scaler_index.fit_transform(index_test[:, np.newaxis])"
   ]
  },
  {
   "cell_type": "code",
   "execution_count": 5,
   "metadata": {
    "collapsed": false
   },
   "outputs": [
    {
     "name": "stdout",
     "output_type": "stream",
     "text": [
      "Model: \"model_1\"\n",
      "_________________________________________________________________\n",
      "Layer (type)                 Output Shape              Param #   \n",
      "=================================================================\n",
      "input_1 (InputLayer)         [(None, 101)]             0         \n",
      "_________________________________________________________________\n",
      "dense (Dense)                (None, 4)                 408       \n",
      "_________________________________________________________________\n",
      "dense_1 (Dense)              (None, 101)               505       \n",
      "=================================================================\n",
      "Total params: 913\n",
      "Trainable params: 913\n",
      "Non-trainable params: 0\n",
      "_________________________________________________________________\n"
     ]
    }
   ],
   "source": [
    "## Autoencoder - Keras\n",
    "\n",
    "# Network hyperparameters\n",
    "n_inputs = X_train.shape[1]\n",
    "\n",
    "# Training hyperparameters\n",
    "epochs = 50\n",
    "batch_size = 1\n",
    "\n",
    "# Define model\n",
    "input = Input(shape=(n_inputs,))\n",
    "# Encoder Layers\n",
    "encoded = Dense(4, input_shape=(n_inputs,), activation='relu')(input)\n",
    "decoded = Dense(n_inputs, activation='sigmoid')(encoded)\n",
    "\n",
    "# Encoder\n",
    "encoder = Model(input, encoded)\n",
    "\n",
    "# Autoencoder\n",
    "model = Model(input, decoded)\n",
    "\n",
    "model.summary()"
   ]
  },
  {
   "cell_type": "code",
   "execution_count": 6,
   "metadata": {
    "collapsed": true
   },
   "outputs": [],
   "source": [
    "# Compile the model\n",
    "model.compile(loss='mse', optimizer='adam')"
   ]
  },
  {
   "cell_type": "code",
   "execution_count": 7,
   "metadata": {
    "collapsed": true
   },
   "outputs": [],
   "source": [
    "# Fit the model\n",
    "history = model.fit(X_train,\n",
    "                    X_train,\n",
    "                    epochs=epochs,\n",
    "                    batch_size=batch_size,\n",
    "                    shuffle=True,\n",
    "                    verbose=0\n",
    "                    )"
   ]
  },
  {
   "cell_type": "code",
   "execution_count": 8,
   "metadata": {
    "collapsed": false
   },
   "outputs": [
    {
     "name": "stdout",
     "output_type": "stream",
     "text": [
      "dict_keys(['loss'])\n"
     ]
    }
   ],
   "source": [
    "# List all data recorded in history\n",
    "print(history.history.keys())"
   ]
  },
  {
   "cell_type": "code",
   "execution_count": 9,
   "metadata": {
    "collapsed": false
   },
   "outputs": [
    {
     "data": {
      "image/png": "[encoded data removed]",
      "text/plain": [
       "<Figure size 432x288 with 1 Axes>"
      ]
     },
     "metadata": {
      "needs_background": "light"
     },
     "output_type": "display_data"
    }
   ],
   "source": [
    "# Visualize training loss\n",
    "plt.figure()\n",
    "plt.plot(history.history['loss'])\n",
    "plt.ylabel('Loss')\n",
    "plt.xlabel('Epoch')\n",
    "plt.show()\n",
    "#plt.savefig('images/vanillaAE_loss.png', bbox_inches='tight')"
   ]
  },
  {
   "cell_type": "code",
   "execution_count": 10,
   "metadata": {
    "collapsed": true
   },
   "outputs": [],
   "source": [
    "#from keras.models import model_from_json\n",
    "\n",
    "## Save model\n",
    "## serialize model to JSON\n",
    "#model_json = model.to_json()\n",
    "#with open(\"models/vanillaAE_model.json\", \"w\") as json_file:\n",
    "#    json_file.write(model_json)\n",
    "## serialize weights to HDF5\n",
    "#model.save_weights(\"models/vanillaAE_model.h5\")"
   ]
  },
  {
   "cell_type": "code",
   "execution_count": 11,
   "metadata": {
    "collapsed": true
   },
   "outputs": [],
   "source": [
    "## Load model\n",
    "## load json and create model\n",
    "#json_file = open('models/vanillaAE_model.json', 'r')\n",
    "#loaded_model_json = json_file.read()\n",
    "#json_file.close()\n",
    "#model = model_from_json(loaded_model_json)\n",
    "## load weights into new model\n",
    "#model.load_weights(\"models/vanillaAE_model.h5\")"
   ]
  },
  {
   "cell_type": "code",
   "execution_count": 12,
   "metadata": {
    "collapsed": false
   },
   "outputs": [
    {
     "name": "stdout",
     "output_type": "stream",
     "text": [
      "202/202 [==============================] - 0s 715us/step - loss: 0.0151\n",
      "51/51 [==============================] - 0s 779us/step - loss: 0.0753\n",
      "Training MSE: 0.01513537\n",
      "Training MSE: 0.07532545\n"
     ]
    }
   ],
   "source": [
    "# Evaluate model\n",
    "score_train = model.evaluate(X_train, X_train, batch_size=batch_size)\n",
    "score_test = model.evaluate(X_test, X_test, batch_size=batch_size)\n",
    "\n",
    "print('Training MSE: %.8f' %score_train)\n",
    "print('Training MSE: %.8f' %score_test)"
   ]
  },
  {
   "cell_type": "code",
   "execution_count": 13,
   "metadata": {
    "collapsed": false
   },
   "outputs": [
    {
     "name": "stdout",
     "output_type": "stream",
     "text": [
      "Training MSE: 0.01513537\n",
      "Testing MSE: 0.07532545\n"
     ]
    }
   ],
   "source": [
    "# Obtain reconstruction of the stocks\n",
    "X_train_pred = model.predict(X_train)\n",
    "X_test_pred = model.predict(X_test)\n",
    "\n",
    "# Reconstruction error\n",
    "error_train = np.mean(np.abs(X_train - X_train_pred)**2, axis=0)\n",
    "print('Training MSE: %.8f' %np.mean(error_train))\n",
    "\n",
    "error_test = np.mean(np.abs(X_test - X_test_pred)**2, axis=0)\n",
    "print('Testing MSE: %.8f' %np.mean(error_test))"
   ]
  },
  {
   "cell_type": "code",
   "execution_count": 14,
   "metadata": {
    "collapsed": true
   },
   "outputs": [],
   "source": [
    "# Sort stocks by reconstruction error\n",
    "ind = np.argsort(error_train)\n",
    "sort_error = error_train[ind]\n",
    "sort_assets_names = assets_names[ind]"
   ]
  },
  {
   "cell_type": "code",
   "execution_count": 15,
   "metadata": {
    "collapsed": false
   },
   "outputs": [
    {
     "data": {
      "image/png": "[encoded data removed]",
      "text/plain": [
       "<Figure size 432x288 with 1 Axes>"
      ]
     },
     "metadata": {
      "needs_background": "light"
     },
     "output_type": "display_data"
    }
   ],
   "source": [
    "# Barplot\n",
    "plt.figure()\n",
    "plt.barh(2*np.arange(len(error_train[:20])), error_train[ind[:20]], tick_label=assets_names[ind[:20]])\n",
    "plt.xlabel('MSE')\n",
    "plt.show()\n",
    "#plt.savefig('images/vanillaAE_MSEbar.png', bbox_inches='tight')"
   ]
  },
  {
   "cell_type": "code",
   "execution_count": 28,
   "metadata": {
    "collapsed": false
   },
   "outputs": [
    {
     "data": {
      "image/png": "[encoded data removed]",
      "text/plain": [
       "<Figure size 432x288 with 1 Axes>"
      ]
     },
     "metadata": {
      "needs_background": "light"
     },
     "output_type": "display_data"
    }
   ],
   "source": [
    "# Plot stock\n",
    "i = 0\n",
    "plt.figure()\n",
    "plt.plot(X_train[:, ind[i]], label=assets_names[ind[i]] + ' Stock')\n",
    "plt.plot(X_train_pred[:, ind[i]], label=assets_names[ind[i]] + ' AE')\n",
    "plt.legend()\n",
    "plt.xlabel('Time (days)')\n",
    "plt.ylabel('Normalized price')\n",
    "plt.show()\n",
    "#plt.savefig('images/vanillaAE_' + assets_names[ind[i]] + '.png', bbox_inches='tight')"
   ]
  },
  {
   "cell_type": "code",
   "execution_count": 17,
   "metadata": {
    "collapsed": true
   },
   "outputs": [],
   "source": [
    "# Identify stocks\n",
    "n = 5\n",
    "\n",
    "portfolio_train = X_train_pred[:, ind[:n]]\n",
    "portfolio_test = X_test_pred[:, ind[:n]]\n",
    "\n",
    "# Create portfolio in-sample\n",
    "tracked_index_insample = np.mean(portfolio_train, axis=1)\n",
    "\n",
    "# Create portfolio out-sample\n",
    "tracked_index_outofsample = np.mean(portfolio_test, axis=1)"
   ]
  },
  {
   "cell_type": "code",
   "execution_count": 18,
   "metadata": {
    "collapsed": false
   },
   "outputs": [
    {
     "data": {
      "image/png": "[encoded data removed]",
      "text/plain": [
       "<Figure size 432x288 with 1 Axes>"
      ]
     },
     "metadata": {
      "needs_background": "light"
     },
     "output_type": "display_data"
    }
   ],
   "source": [
    "# In-sample\n",
    "plt.figure()\n",
    "plt.plot(index_train, label='Nasdaq100 Index')\n",
    "plt.plot(tracked_index_insample, label='Tracked Index')\n",
    "plt.legend()\n",
    "plt.xlabel('Time (days)')\n",
    "plt.ylabel('Normalized price')\n",
    "plt.show()\n",
    "#plt.savefig('images/vanillaAE_insample.png', bbox_inches='tight')"
   ]
  },
  {
   "cell_type": "code",
   "execution_count": 19,
   "metadata": {
    "collapsed": false
   },
   "outputs": [
    {
     "name": "stdout",
     "output_type": "stream",
     "text": [
      "Correlation coefficient (in-sample): 0.95583108\n"
     ]
    }
   ],
   "source": [
    "# Correlation coefficient (in-sample)\n",
    "corr_train = np.corrcoef(index_train.squeeze(), tracked_index_insample)[0, 1]\n",
    "print('Correlation coefficient (in-sample): %.8f' %corr_train)"
   ]
  },
  {
   "cell_type": "code",
   "execution_count": 20,
   "metadata": {
    "collapsed": false
   },
   "outputs": [
    {
     "data": {
      "image/png": "[encoded data removed]",
      "text/plain": [
       "<Figure size 432x288 with 1 Axes>"
      ]
     },
     "metadata": {
      "needs_background": "light"
     },
     "output_type": "display_data"
    }
   ],
   "source": [
    "# Plot tracked index (out-of-sample)\n",
    "plt.figure()\n",
    "plt.plot(index_test, label='Nasdaq100 Index')\n",
    "plt.plot(tracked_index_outofsample, label='Tracked Index')\n",
    "plt.legend()\n",
    "plt.xlabel('Time (days)')\n",
    "plt.ylabel('Normalized price')\n",
    "plt.show()\n",
    "#plt.savefig('images/vanillaAE_outofsample.png', bbox_inches='tight')"
   ]
  },
  {
   "cell_type": "code",
   "execution_count": 21,
   "metadata": {
    "collapsed": false
   },
   "outputs": [
    {
     "name": "stdout",
     "output_type": "stream",
     "text": [
      "Correlation coefficient: 0.87635733\n"
     ]
    }
   ],
   "source": [
    "# Correlation coefficient (out-of-sample)\n",
    "corr_test = np.corrcoef(index_test.squeeze(), tracked_index_outofsample)[0, 1]\n",
    "print('Correlation coefficient: %.8f' %corr_test)"
   ]
  },
  {
   "cell_type": "code",
   "execution_count": 22,
   "metadata": {
    "collapsed": false
   },
   "outputs": [
    {
     "name": "stdout",
     "output_type": "stream",
     "text": [
      "Mean of code values for vanilla AE: 1.89480293\n"
     ]
    }
   ],
   "source": [
    "# Predict code values\n",
    "code_values = encoder.predict(X_test)\n",
    "#code_values.save('models/vanillaAE_code.npy')\n",
    "\n",
    "# Compute mean\n",
    "mean_code = np.mean(code_values, axis=(0, 1))\n",
    "print('Mean of code values for vanilla AE: %.8f' %mean_code)"
   ]
  },
  {
   "cell_type": "code",
   "execution_count": null,
   "metadata": {
    "collapsed": true
   },
   "outputs": [],
   "source": []
  }
 ],
 "metadata": {
  "kernelspec": {
   "display_name": "Python 3",
   "language": "python",
   "name": "python3"
  },
  "language_info": {
   "codemirror_mode": {
    "name": "ipython",
    "version": 3
   },
   "file_extension": ".py",
   "mimetype": "text/x-python",
   "name": "python",
   "nbconvert_exporter": "python",
   "pygments_lexer": "ipython3",
   "version": "3.7.9"
  }
 },
 "nbformat": 4,
 "nbformat_minor": 1
}
