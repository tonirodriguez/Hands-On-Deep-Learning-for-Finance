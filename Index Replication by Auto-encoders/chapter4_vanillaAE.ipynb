{
 "cells": [
  {
   "cell_type": "code",
   "execution_count": 1,
   "metadata": {
    "collapsed": false
   },
   "outputs": [],
   "source": [
    "import pandas as pd\n",
    "import numpy as np\n",
    "from scipy import stats\n",
    "\n",
    "import matplotlib.pyplot as plt\n",
    "\n",
    "from sklearn.preprocessing import MinMaxScaler\n",
    "\n",
    "from tensorflow.keras.models import Sequential, Model\n",
    "from tensorflow.keras.layers import Dense, Input\n",
    "from tensorflow.keras import regularizers"
   ]
  },
  {
   "cell_type": "code",
   "execution_count": 2,
   "metadata": {
    "collapsed": false
   },
   "outputs": [
    {
     "name": "stdout",
     "output_type": "stream",
     "text": [
      "Stocks data (time series) shape: (1512, 91)\n",
      "Index data (time series) shape: (1512,)\n"
     ]
    },
    {
     "data": {
      "text/html": [
       "<div>\n",
       "<style scoped>\n",
       "    .dataframe tbody tr th:only-of-type {\n",
       "        vertical-align: middle;\n",
       "    }\n",
       "\n",
       "    .dataframe tbody tr th {\n",
       "        vertical-align: top;\n",
       "    }\n",
       "\n",
       "    .dataframe thead th {\n",
       "        text-align: right;\n",
       "    }\n",
       "</style>\n",
       "<table border=\"1\" class=\"dataframe\">\n",
       "  <thead>\n",
       "    <tr style=\"text-align: right;\">\n",
       "      <th></th>\n",
       "      <th>ATVI</th>\n",
       "      <th>ADBE</th>\n",
       "      <th>AMD</th>\n",
       "      <th>ALGN</th>\n",
       "      <th>GOOGL</th>\n",
       "      <th>GOOG</th>\n",
       "      <th>AMZN</th>\n",
       "      <th>AAL</th>\n",
       "      <th>AMGN</th>\n",
       "      <th>ADI</th>\n",
       "      <th>...</th>\n",
       "      <th>VRSN</th>\n",
       "      <th>VRSK</th>\n",
       "      <th>VRTX</th>\n",
       "      <th>WBA</th>\n",
       "      <th>WDAY</th>\n",
       "      <th>WDC</th>\n",
       "      <th>WLTW</th>\n",
       "      <th>WYNN</th>\n",
       "      <th>XEL</th>\n",
       "      <th>XLNX</th>\n",
       "    </tr>\n",
       "    <tr>\n",
       "      <th>Date</th>\n",
       "      <th></th>\n",
       "      <th></th>\n",
       "      <th></th>\n",
       "      <th></th>\n",
       "      <th></th>\n",
       "      <th></th>\n",
       "      <th></th>\n",
       "      <th></th>\n",
       "      <th></th>\n",
       "      <th></th>\n",
       "      <th></th>\n",
       "      <th></th>\n",
       "      <th></th>\n",
       "      <th></th>\n",
       "      <th></th>\n",
       "      <th></th>\n",
       "      <th></th>\n",
       "      <th></th>\n",
       "      <th></th>\n",
       "      <th></th>\n",
       "      <th></th>\n",
       "    </tr>\n",
       "  </thead>\n",
       "  <tbody>\n",
       "    <tr>\n",
       "      <th>2015-12-30</th>\n",
       "      <td>37.931797</td>\n",
       "      <td>95.279999</td>\n",
       "      <td>2.98</td>\n",
       "      <td>66.099998</td>\n",
       "      <td>790.299988</td>\n",
       "      <td>771.000000</td>\n",
       "      <td>689.070007</td>\n",
       "      <td>40.901630</td>\n",
       "      <td>137.723129</td>\n",
       "      <td>49.810318</td>\n",
       "      <td>...</td>\n",
       "      <td>88.139999</td>\n",
       "      <td>76.025185</td>\n",
       "      <td>126.400002</td>\n",
       "      <td>72.629318</td>\n",
       "      <td>80.279999</td>\n",
       "      <td>52.720818</td>\n",
       "      <td>118.801224</td>\n",
       "      <td>62.168110</td>\n",
       "      <td>30.473986</td>\n",
       "      <td>43.330223</td>\n",
       "    </tr>\n",
       "    <tr>\n",
       "      <th>2015-12-31</th>\n",
       "      <td>37.239155</td>\n",
       "      <td>93.940002</td>\n",
       "      <td>2.87</td>\n",
       "      <td>65.849998</td>\n",
       "      <td>778.010010</td>\n",
       "      <td>758.880005</td>\n",
       "      <td>675.890015</td>\n",
       "      <td>40.471584</td>\n",
       "      <td>136.913467</td>\n",
       "      <td>48.726913</td>\n",
       "      <td>...</td>\n",
       "      <td>87.360001</td>\n",
       "      <td>75.407249</td>\n",
       "      <td>125.830002</td>\n",
       "      <td>71.595238</td>\n",
       "      <td>79.680000</td>\n",
       "      <td>51.823299</td>\n",
       "      <td>117.903053</td>\n",
       "      <td>62.666264</td>\n",
       "      <td>30.063749</td>\n",
       "      <td>42.542248</td>\n",
       "    </tr>\n",
       "    <tr>\n",
       "      <th>2016-01-04</th>\n",
       "      <td>36.190571</td>\n",
       "      <td>91.970001</td>\n",
       "      <td>2.77</td>\n",
       "      <td>64.269997</td>\n",
       "      <td>759.440002</td>\n",
       "      <td>741.840027</td>\n",
       "      <td>636.989990</td>\n",
       "      <td>39.095459</td>\n",
       "      <td>133.548172</td>\n",
       "      <td>47.951786</td>\n",
       "      <td>...</td>\n",
       "      <td>83.949997</td>\n",
       "      <td>73.857529</td>\n",
       "      <td>122.889999</td>\n",
       "      <td>69.821350</td>\n",
       "      <td>77.760002</td>\n",
       "      <td>52.125347</td>\n",
       "      <td>114.528839</td>\n",
       "      <td>62.285854</td>\n",
       "      <td>29.887941</td>\n",
       "      <td>41.482540</td>\n",
       "    </tr>\n",
       "    <tr>\n",
       "      <th>2016-01-05</th>\n",
       "      <td>35.728809</td>\n",
       "      <td>92.339996</td>\n",
       "      <td>2.75</td>\n",
       "      <td>64.949997</td>\n",
       "      <td>761.530029</td>\n",
       "      <td>742.580017</td>\n",
       "      <td>633.789978</td>\n",
       "      <td>38.722763</td>\n",
       "      <td>133.404785</td>\n",
       "      <td>47.599461</td>\n",
       "      <td>...</td>\n",
       "      <td>81.410004</td>\n",
       "      <td>73.592690</td>\n",
       "      <td>123.449997</td>\n",
       "      <td>67.988579</td>\n",
       "      <td>77.239998</td>\n",
       "      <td>51.900967</td>\n",
       "      <td>115.316803</td>\n",
       "      <td>63.463291</td>\n",
       "      <td>30.189337</td>\n",
       "      <td>42.098431</td>\n",
       "    </tr>\n",
       "    <tr>\n",
       "      <th>2016-01-06</th>\n",
       "      <td>35.392109</td>\n",
       "      <td>91.019997</td>\n",
       "      <td>2.51</td>\n",
       "      <td>64.870003</td>\n",
       "      <td>759.330017</td>\n",
       "      <td>743.619995</td>\n",
       "      <td>632.650024</td>\n",
       "      <td>39.401268</td>\n",
       "      <td>132.181839</td>\n",
       "      <td>45.573589</td>\n",
       "      <td>...</td>\n",
       "      <td>81.019997</td>\n",
       "      <td>73.210167</td>\n",
       "      <td>122.230003</td>\n",
       "      <td>66.946083</td>\n",
       "      <td>74.400002</td>\n",
       "      <td>50.744545</td>\n",
       "      <td>115.316803</td>\n",
       "      <td>60.175549</td>\n",
       "      <td>30.507462</td>\n",
       "      <td>41.328568</td>\n",
       "    </tr>\n",
       "  </tbody>\n",
       "</table>\n",
       "<p>5 rows × 91 columns</p>\n",
       "</div>"
      ],
      "text/plain": [
       "                 ATVI       ADBE   AMD       ALGN       GOOGL        GOOG  \\\n",
       "Date                                                                        \n",
       "2015-12-30  37.931797  95.279999  2.98  66.099998  790.299988  771.000000   \n",
       "2015-12-31  37.239155  93.940002  2.87  65.849998  778.010010  758.880005   \n",
       "2016-01-04  36.190571  91.970001  2.77  64.269997  759.440002  741.840027   \n",
       "2016-01-05  35.728809  92.339996  2.75  64.949997  761.530029  742.580017   \n",
       "2016-01-06  35.392109  91.019997  2.51  64.870003  759.330017  743.619995   \n",
       "\n",
       "                  AMZN        AAL        AMGN        ADI  ...       VRSN  \\\n",
       "Date                                                      ...              \n",
       "2015-12-30  689.070007  40.901630  137.723129  49.810318  ...  88.139999   \n",
       "2015-12-31  675.890015  40.471584  136.913467  48.726913  ...  87.360001   \n",
       "2016-01-04  636.989990  39.095459  133.548172  47.951786  ...  83.949997   \n",
       "2016-01-05  633.789978  38.722763  133.404785  47.599461  ...  81.410004   \n",
       "2016-01-06  632.650024  39.401268  132.181839  45.573589  ...  81.019997   \n",
       "\n",
       "                 VRSK        VRTX        WBA       WDAY        WDC  \\\n",
       "Date                                                                 \n",
       "2015-12-30  76.025185  126.400002  72.629318  80.279999  52.720818   \n",
       "2015-12-31  75.407249  125.830002  71.595238  79.680000  51.823299   \n",
       "2016-01-04  73.857529  122.889999  69.821350  77.760002  52.125347   \n",
       "2016-01-05  73.592690  123.449997  67.988579  77.239998  51.900967   \n",
       "2016-01-06  73.210167  122.230003  66.946083  74.400002  50.744545   \n",
       "\n",
       "                  WLTW       WYNN        XEL       XLNX  \n",
       "Date                                                     \n",
       "2015-12-30  118.801224  62.168110  30.473986  43.330223  \n",
       "2015-12-31  117.903053  62.666264  30.063749  42.542248  \n",
       "2016-01-04  114.528839  62.285854  29.887941  41.482540  \n",
       "2016-01-05  115.316803  63.463291  30.189337  42.098431  \n",
       "2016-01-06  115.316803  60.175549  30.507462  41.328568  \n",
       "\n",
       "[5 rows x 91 columns]"
      ]
     },
     "execution_count": 2,
     "metadata": {},
     "output_type": "execute_result"
    }
   ],
   "source": [
    "# Load data\n",
    "stocks_data = pd.read_pickle('data/nasdaq100_6y.pkl')\n",
    "index_data = pd.read_pickle('data/nasdaq100_index_6y.pkl')\n",
    "assets_names = stocks_data.columns.values\n",
    "\n",
    "data_assets = stocks_data\n",
    "data_index = index_data\n",
    "\n",
    "print(\"Stocks data (time series) shape: {shape}\".format(shape=stocks_data.shape))\n",
    "print(\"Index data (time series) shape: {shape}\".format(shape=index_data.shape))\n",
    "\n",
    "stocks_data.head()"
   ]
  },
  {
   "cell_type": "code",
   "execution_count": 3,
   "metadata": {},
   "outputs": [
    {
     "data": {
      "text/html": [
       "<div>\n",
       "<style scoped>\n",
       "    .dataframe tbody tr th:only-of-type {\n",
       "        vertical-align: middle;\n",
       "    }\n",
       "\n",
       "    .dataframe tbody tr th {\n",
       "        vertical-align: top;\n",
       "    }\n",
       "\n",
       "    .dataframe thead th {\n",
       "        text-align: right;\n",
       "    }\n",
       "</style>\n",
       "<table border=\"1\" class=\"dataframe\">\n",
       "  <thead>\n",
       "    <tr style=\"text-align: right;\">\n",
       "      <th></th>\n",
       "      <th>ATVI</th>\n",
       "      <th>ADBE</th>\n",
       "      <th>AMD</th>\n",
       "      <th>ALGN</th>\n",
       "      <th>GOOGL</th>\n",
       "      <th>GOOG</th>\n",
       "      <th>AMZN</th>\n",
       "      <th>AAL</th>\n",
       "      <th>AMGN</th>\n",
       "      <th>ADI</th>\n",
       "      <th>...</th>\n",
       "      <th>VRSN</th>\n",
       "      <th>VRSK</th>\n",
       "      <th>VRTX</th>\n",
       "      <th>WBA</th>\n",
       "      <th>WDAY</th>\n",
       "      <th>WDC</th>\n",
       "      <th>WLTW</th>\n",
       "      <th>WYNN</th>\n",
       "      <th>XEL</th>\n",
       "      <th>XLNX</th>\n",
       "    </tr>\n",
       "  </thead>\n",
       "  <tbody>\n",
       "    <tr>\n",
       "      <th>count</th>\n",
       "      <td>1512.000000</td>\n",
       "      <td>1512.000000</td>\n",
       "      <td>1512.000000</td>\n",
       "      <td>1512.000000</td>\n",
       "      <td>1512.000000</td>\n",
       "      <td>1512.000000</td>\n",
       "      <td>1512.000000</td>\n",
       "      <td>1512.000000</td>\n",
       "      <td>1512.000000</td>\n",
       "      <td>1512.000000</td>\n",
       "      <td>...</td>\n",
       "      <td>1512.000000</td>\n",
       "      <td>1512.000000</td>\n",
       "      <td>1512.000000</td>\n",
       "      <td>1512.000000</td>\n",
       "      <td>1512.000000</td>\n",
       "      <td>1512.000000</td>\n",
       "      <td>1512.000000</td>\n",
       "      <td>1512.000000</td>\n",
       "      <td>1512.000000</td>\n",
       "      <td>1512.000000</td>\n",
       "    </tr>\n",
       "    <tr>\n",
       "      <th>mean</th>\n",
       "      <td>60.856863</td>\n",
       "      <td>288.485596</td>\n",
       "      <td>38.530463</td>\n",
       "      <td>284.146773</td>\n",
       "      <td>1328.692024</td>\n",
       "      <td>1325.215816</td>\n",
       "      <td>1852.632367</td>\n",
       "      <td>31.810905</td>\n",
       "      <td>180.760068</td>\n",
       "      <td>99.272165</td>\n",
       "      <td>...</td>\n",
       "      <td>154.265350</td>\n",
       "      <td>128.558439</td>\n",
       "      <td>170.529993</td>\n",
       "      <td>56.889704</td>\n",
       "      <td>155.498016</td>\n",
       "      <td>57.468393</td>\n",
       "      <td>165.719905</td>\n",
       "      <td>111.140352</td>\n",
       "      <td>50.313709</td>\n",
       "      <td>89.170460</td>\n",
       "    </tr>\n",
       "    <tr>\n",
       "      <th>std</th>\n",
       "      <td>18.128237</td>\n",
       "      <td>164.515624</td>\n",
       "      <td>36.199197</td>\n",
       "      <td>178.538677</td>\n",
       "      <td>586.959964</td>\n",
       "      <td>601.585017</td>\n",
       "      <td>954.581739</td>\n",
       "      <td>12.019494</td>\n",
       "      <td>37.043998</td>\n",
       "      <td>35.707601</td>\n",
       "      <td>...</td>\n",
       "      <td>54.085686</td>\n",
       "      <td>45.063829</td>\n",
       "      <td>55.804227</td>\n",
       "      <td>11.479505</td>\n",
       "      <td>62.986416</td>\n",
       "      <td>15.227283</td>\n",
       "      <td>41.146880</td>\n",
       "      <td>28.666711</td>\n",
       "      <td>12.252963</td>\n",
       "      <td>38.436544</td>\n",
       "    </tr>\n",
       "    <tr>\n",
       "      <th>min</th>\n",
       "      <td>27.051542</td>\n",
       "      <td>73.849998</td>\n",
       "      <td>1.800000</td>\n",
       "      <td>58.650002</td>\n",
       "      <td>681.140015</td>\n",
       "      <td>668.260010</td>\n",
       "      <td>482.070007</td>\n",
       "      <td>9.040000</td>\n",
       "      <td>116.269226</td>\n",
       "      <td>43.019188</td>\n",
       "      <td>...</td>\n",
       "      <td>71.769997</td>\n",
       "      <td>64.686638</td>\n",
       "      <td>72.019997</td>\n",
       "      <td>31.907747</td>\n",
       "      <td>48.900002</td>\n",
       "      <td>28.812576</td>\n",
       "      <td>98.171417</td>\n",
       "      <td>43.020000</td>\n",
       "      <td>29.887941</td>\n",
       "      <td>37.959236</td>\n",
       "    </tr>\n",
       "    <tr>\n",
       "      <th>25%</th>\n",
       "      <td>45.676696</td>\n",
       "      <td>143.562496</td>\n",
       "      <td>11.577500</td>\n",
       "      <td>149.699997</td>\n",
       "      <td>947.317490</td>\n",
       "      <td>929.289993</td>\n",
       "      <td>967.747498</td>\n",
       "      <td>21.397500</td>\n",
       "      <td>150.995979</td>\n",
       "      <td>74.227947</td>\n",
       "      <td>...</td>\n",
       "      <td>93.739998</td>\n",
       "      <td>81.895527</td>\n",
       "      <td>130.102497</td>\n",
       "      <td>47.936741</td>\n",
       "      <td>100.057501</td>\n",
       "      <td>43.589034</td>\n",
       "      <td>135.592243</td>\n",
       "      <td>88.297503</td>\n",
       "      <td>39.374691</td>\n",
       "      <td>60.810463</td>\n",
       "    </tr>\n",
       "    <tr>\n",
       "      <th>50%</th>\n",
       "      <td>59.961060</td>\n",
       "      <td>258.235001</td>\n",
       "      <td>23.680000</td>\n",
       "      <td>253.720001</td>\n",
       "      <td>1144.445007</td>\n",
       "      <td>1139.070007</td>\n",
       "      <td>1749.114990</td>\n",
       "      <td>32.496197</td>\n",
       "      <td>173.747902</td>\n",
       "      <td>91.647038</td>\n",
       "      <td>...</td>\n",
       "      <td>160.165001</td>\n",
       "      <td>118.314259</td>\n",
       "      <td>175.334999</td>\n",
       "      <td>57.003674</td>\n",
       "      <td>146.030006</td>\n",
       "      <td>55.689007</td>\n",
       "      <td>152.942505</td>\n",
       "      <td>108.982853</td>\n",
       "      <td>47.035231</td>\n",
       "      <td>82.174522</td>\n",
       "    </tr>\n",
       "    <tr>\n",
       "      <th>75%</th>\n",
       "      <td>75.364799</td>\n",
       "      <td>432.300011</td>\n",
       "      <td>56.232500</td>\n",
       "      <td>346.317490</td>\n",
       "      <td>1479.094971</td>\n",
       "      <td>1474.894958</td>\n",
       "      <td>2881.599976</td>\n",
       "      <td>41.262199</td>\n",
       "      <td>216.739155</td>\n",
       "      <td>114.549072</td>\n",
       "      <td>...</td>\n",
       "      <td>205.130001</td>\n",
       "      <td>168.055645</td>\n",
       "      <td>210.380005</td>\n",
       "      <td>67.974545</td>\n",
       "      <td>205.590000</td>\n",
       "      <td>70.834532</td>\n",
       "      <td>198.914906</td>\n",
       "      <td>129.161118</td>\n",
       "      <td>62.149249</td>\n",
       "      <td>114.416258</td>\n",
       "    </tr>\n",
       "    <tr>\n",
       "      <th>max</th>\n",
       "      <td>103.309784</td>\n",
       "      <td>688.369995</td>\n",
       "      <td>161.910004</td>\n",
       "      <td>729.919983</td>\n",
       "      <td>2996.770020</td>\n",
       "      <td>3014.179932</td>\n",
       "      <td>3731.409912</td>\n",
       "      <td>56.988731</td>\n",
       "      <td>253.232712</td>\n",
       "      <td>188.079636</td>\n",
       "      <td>...</td>\n",
       "      <td>255.929993</td>\n",
       "      <td>229.738617</td>\n",
       "      <td>303.100006</td>\n",
       "      <td>76.630196</td>\n",
       "      <td>300.899994</td>\n",
       "      <td>97.646355</td>\n",
       "      <td>267.487183</td>\n",
       "      <td>190.356094</td>\n",
       "      <td>72.188370</td>\n",
       "      <td>233.080002</td>\n",
       "    </tr>\n",
       "  </tbody>\n",
       "</table>\n",
       "<p>8 rows × 91 columns</p>\n",
       "</div>"
      ],
      "text/plain": [
       "              ATVI         ADBE          AMD         ALGN        GOOGL  \\\n",
       "count  1512.000000  1512.000000  1512.000000  1512.000000  1512.000000   \n",
       "mean     60.856863   288.485596    38.530463   284.146773  1328.692024   \n",
       "std      18.128237   164.515624    36.199197   178.538677   586.959964   \n",
       "min      27.051542    73.849998     1.800000    58.650002   681.140015   \n",
       "25%      45.676696   143.562496    11.577500   149.699997   947.317490   \n",
       "50%      59.961060   258.235001    23.680000   253.720001  1144.445007   \n",
       "75%      75.364799   432.300011    56.232500   346.317490  1479.094971   \n",
       "max     103.309784   688.369995   161.910004   729.919983  2996.770020   \n",
       "\n",
       "              GOOG         AMZN          AAL         AMGN          ADI  ...  \\\n",
       "count  1512.000000  1512.000000  1512.000000  1512.000000  1512.000000  ...   \n",
       "mean   1325.215816  1852.632367    31.810905   180.760068    99.272165  ...   \n",
       "std     601.585017   954.581739    12.019494    37.043998    35.707601  ...   \n",
       "min     668.260010   482.070007     9.040000   116.269226    43.019188  ...   \n",
       "25%     929.289993   967.747498    21.397500   150.995979    74.227947  ...   \n",
       "50%    1139.070007  1749.114990    32.496197   173.747902    91.647038  ...   \n",
       "75%    1474.894958  2881.599976    41.262199   216.739155   114.549072  ...   \n",
       "max    3014.179932  3731.409912    56.988731   253.232712   188.079636  ...   \n",
       "\n",
       "              VRSN         VRSK         VRTX          WBA         WDAY  \\\n",
       "count  1512.000000  1512.000000  1512.000000  1512.000000  1512.000000   \n",
       "mean    154.265350   128.558439   170.529993    56.889704   155.498016   \n",
       "std      54.085686    45.063829    55.804227    11.479505    62.986416   \n",
       "min      71.769997    64.686638    72.019997    31.907747    48.900002   \n",
       "25%      93.739998    81.895527   130.102497    47.936741   100.057501   \n",
       "50%     160.165001   118.314259   175.334999    57.003674   146.030006   \n",
       "75%     205.130001   168.055645   210.380005    67.974545   205.590000   \n",
       "max     255.929993   229.738617   303.100006    76.630196   300.899994   \n",
       "\n",
       "               WDC         WLTW         WYNN          XEL         XLNX  \n",
       "count  1512.000000  1512.000000  1512.000000  1512.000000  1512.000000  \n",
       "mean     57.468393   165.719905   111.140352    50.313709    89.170460  \n",
       "std      15.227283    41.146880    28.666711    12.252963    38.436544  \n",
       "min      28.812576    98.171417    43.020000    29.887941    37.959236  \n",
       "25%      43.589034   135.592243    88.297503    39.374691    60.810463  \n",
       "50%      55.689007   152.942505   108.982853    47.035231    82.174522  \n",
       "75%      70.834532   198.914906   129.161118    62.149249   114.416258  \n",
       "max      97.646355   267.487183   190.356094    72.188370   233.080002  \n",
       "\n",
       "[8 rows x 91 columns]"
      ]
     },
     "execution_count": 3,
     "metadata": {},
     "output_type": "execute_result"
    }
   ],
   "source": [
    "stocks_data.describe()"
   ]
  },
  {
   "cell_type": "code",
   "execution_count": 4,
   "metadata": {
    "collapsed": true
   },
   "outputs": [],
   "source": [
    "# Split data\n",
    "n_train = int(data_assets.shape[0]*0.8)\n",
    "\n",
    "# Stocks data\n",
    "X_train = data_assets.values[:n_train, :]\n",
    "X_test = data_assets.values[n_train:, :]\n",
    "\n",
    "# Index data\n",
    "index_train = data_index[:n_train]\n",
    "index_test = data_index[n_train:]"
   ]
  },
  {
   "cell_type": "code",
   "execution_count": 5,
   "metadata": {
    "collapsed": true
   },
   "outputs": [
    {
     "name": "stderr",
     "output_type": "stream",
     "text": [
      "/opt/anaconda3/envs/fastai/lib/python3.7/site-packages/ipykernel_launcher.py:8: FutureWarning: Support for multi-dimensional indexing (e.g. `obj[:, None]`) is deprecated and will be removed in a future version.  Convert to a numpy array before indexing instead.\n",
      "  \n",
      "/opt/anaconda3/envs/fastai/lib/python3.7/site-packages/ipykernel_launcher.py:9: FutureWarning: Support for multi-dimensional indexing (e.g. `obj[:, None]`) is deprecated and will be removed in a future version.  Convert to a numpy array before indexing instead.\n",
      "  if __name__ == '__main__':\n"
     ]
    }
   ],
   "source": [
    "# Normalize data\n",
    "scaler = MinMaxScaler([0, 1])\n",
    "# Stocks data\n",
    "X_train = scaler.fit_transform(X_train)\n",
    "X_test = scaler.fit_transform(X_test)\n",
    "# Index data\n",
    "scaler_index = MinMaxScaler([0, 1])\n",
    "index_train = scaler_index.fit_transform(index_train[:, np.newaxis])\n",
    "index_test = scaler_index.fit_transform(index_test[:, np.newaxis])"
   ]
  },
  {
   "cell_type": "code",
   "execution_count": 6,
   "metadata": {
    "collapsed": false
   },
   "outputs": [
    {
     "name": "stdout",
     "output_type": "stream",
     "text": [
      "Model: \"model_1\"\n",
      "_________________________________________________________________\n",
      "Layer (type)                 Output Shape              Param #   \n",
      "=================================================================\n",
      "input_1 (InputLayer)         [(None, 91)]              0         \n",
      "_________________________________________________________________\n",
      "dense (Dense)                (None, 4)                 368       \n",
      "_________________________________________________________________\n",
      "dense_1 (Dense)              (None, 91)                455       \n",
      "=================================================================\n",
      "Total params: 823\n",
      "Trainable params: 823\n",
      "Non-trainable params: 0\n",
      "_________________________________________________________________\n"
     ]
    }
   ],
   "source": [
    "## Autoencoder - Keras\n",
    "\n",
    "# Network hyperparameters\n",
    "n_inputs = X_train.shape[1]\n",
    "\n",
    "# Training hyperparameters\n",
    "epochs = 50\n",
    "batch_size = 1\n",
    "\n",
    "# Define model\n",
    "input = Input(shape=(n_inputs,))\n",
    "# Encoder Layers\n",
    "encoded = Dense(4, input_shape=(n_inputs,), activation='relu')(input)\n",
    "decoded = Dense(n_inputs, activation='sigmoid')(encoded)\n",
    "\n",
    "# Encoder\n",
    "encoder = Model(input, encoded)\n",
    "\n",
    "# Autoencoder\n",
    "model = Model(input, decoded)\n",
    "\n",
    "model.summary()"
   ]
  },
  {
   "cell_type": "code",
   "execution_count": 7,
   "metadata": {
    "collapsed": true
   },
   "outputs": [],
   "source": [
    "# Compile the model\n",
    "model.compile(loss='mse', optimizer='adam')"
   ]
  },
  {
   "cell_type": "code",
   "execution_count": 8,
   "metadata": {
    "collapsed": true
   },
   "outputs": [],
   "source": [
    "# Fit the model\n",
    "history = model.fit(X_train,\n",
    "                    X_train,\n",
    "                    epochs=epochs,\n",
    "                    batch_size=batch_size,\n",
    "                    shuffle=True,\n",
    "                    verbose=0\n",
    "                    )"
   ]
  },
  {
   "cell_type": "code",
   "execution_count": 9,
   "metadata": {
    "collapsed": false
   },
   "outputs": [
    {
     "name": "stdout",
     "output_type": "stream",
     "text": [
      "dict_keys(['loss'])\n"
     ]
    }
   ],
   "source": [
    "# List all data recorded in history\n",
    "print(history.history.keys())"
   ]
  },
  {
   "cell_type": "code",
   "execution_count": 10,
   "metadata": {
    "collapsed": false
   },
   "outputs": [
    {
     "data": {
      "image/png": "[encoded data removed]",
      "text/plain": [
       "<Figure size 432x288 with 1 Axes>"
      ]
     },
     "metadata": {
      "needs_background": "light"
     },
     "output_type": "display_data"
    }
   ],
   "source": [
    "# Visualize training loss\n",
    "plt.figure()\n",
    "plt.plot(history.history['loss'])\n",
    "plt.ylabel('Loss')\n",
    "plt.xlabel('Epoch')\n",
    "plt.show()\n",
    "#plt.savefig('images/vanillaAE_loss.png', bbox_inches='tight')"
   ]
  },
  {
   "cell_type": "code",
   "execution_count": 11,
   "metadata": {
    "collapsed": true
   },
   "outputs": [],
   "source": [
    "#from keras.models import model_from_json\n",
    "\n",
    "## Save model\n",
    "## serialize model to JSON\n",
    "#model_json = model.to_json()\n",
    "#with open(\"models/vanillaAE_model.json\", \"w\") as json_file:\n",
    "#    json_file.write(model_json)\n",
    "## serialize weights to HDF5\n",
    "#model.save_weights(\"models/vanillaAE_model.h5\")"
   ]
  },
  {
   "cell_type": "code",
   "execution_count": 12,
   "metadata": {
    "collapsed": true
   },
   "outputs": [],
   "source": [
    "## Load model\n",
    "## load json and create model\n",
    "#json_file = open('models/vanillaAE_model.json', 'r')\n",
    "#loaded_model_json = json_file.read()\n",
    "#json_file.close()\n",
    "#model = model_from_json(loaded_model_json)\n",
    "## load weights into new model\n",
    "#model.load_weights(\"models/vanillaAE_model.h5\")"
   ]
  },
  {
   "cell_type": "code",
   "execution_count": 13,
   "metadata": {
    "collapsed": false
   },
   "outputs": [
    {
     "name": "stdout",
     "output_type": "stream",
     "text": [
      "1209/1209 [==============================] - 1s 494us/step - loss: 0.0157\n",
      "303/303 [==============================] - 0s 525us/step - loss: 0.0643\n",
      "Training MSE: 0.01567992\n",
      "Training MSE: 0.06427139\n"
     ]
    }
   ],
   "source": [
    "# Evaluate model\n",
    "score_train = model.evaluate(X_train, X_train, batch_size=batch_size)\n",
    "score_test = model.evaluate(X_test, X_test, batch_size=batch_size)\n",
    "\n",
    "print('Training MSE: %.8f' %score_train)\n",
    "print('Training MSE: %.8f' %score_test)"
   ]
  },
  {
   "cell_type": "code",
   "execution_count": 14,
   "metadata": {
    "collapsed": false
   },
   "outputs": [
    {
     "name": "stdout",
     "output_type": "stream",
     "text": [
      "Training MSE: 0.01567992\n",
      "Testing MSE: 0.06427142\n"
     ]
    }
   ],
   "source": [
    "# Obtain reconstruction of the stocks\n",
    "X_train_pred = model.predict(X_train)\n",
    "X_test_pred = model.predict(X_test)\n",
    "\n",
    "# Reconstruction error\n",
    "error_train = np.mean(np.abs(X_train - X_train_pred)**2, axis=0)\n",
    "print('Training MSE: %.8f' %np.mean(error_train))\n",
    "\n",
    "error_test = np.mean(np.abs(X_test - X_test_pred)**2, axis=0)\n",
    "print('Testing MSE: %.8f' %np.mean(error_test))"
   ]
  },
  {
   "cell_type": "code",
   "execution_count": 15,
   "metadata": {
    "collapsed": true
   },
   "outputs": [],
   "source": [
    "# Sort stocks by reconstruction error\n",
    "ind = np.argsort(error_train)\n",
    "sort_error = error_train[ind]\n",
    "sort_assets_names = assets_names[ind]"
   ]
  },
  {
   "cell_type": "code",
   "execution_count": 16,
   "metadata": {
    "collapsed": false
   },
   "outputs": [
    {
     "data": {
      "image/png": "[encoded data removed]",
      "text/plain": [
       "<Figure size 432x288 with 1 Axes>"
      ]
     },
     "metadata": {
      "needs_background": "light"
     },
     "output_type": "display_data"
    }
   ],
   "source": [
    "# Barplot\n",
    "plt.figure()\n",
    "plt.barh(2*np.arange(len(error_train[:20])), error_train[ind[:20]], tick_label=assets_names[ind[:20]])\n",
    "plt.xlabel('MSE')\n",
    "plt.show()\n",
    "#plt.savefig('images/vanillaAE_MSEbar.png', bbox_inches='tight')"
   ]
  },
  {
   "cell_type": "code",
   "execution_count": 17,
   "metadata": {
    "collapsed": false
   },
   "outputs": [
    {
     "data": {
      "image/png": "[encoded data removed]",
      "text/plain": [
       "<Figure size 432x288 with 1 Axes>"
      ]
     },
     "metadata": {
      "needs_background": "light"
     },
     "output_type": "display_data"
    }
   ],
   "source": [
    "# Plot stock\n",
    "i = 0\n",
    "plt.figure()\n",
    "plt.plot(X_train[:, ind[i]], label=assets_names[ind[i]] + ' Stock')\n",
    "plt.plot(X_train_pred[:, ind[i]], label=assets_names[ind[i]] + ' AE')\n",
    "plt.legend()\n",
    "plt.xlabel('Time (days)')\n",
    "plt.ylabel('Normalized price')\n",
    "plt.show()\n",
    "#plt.savefig('images/vanillaAE_' + assets_names[ind[i]] + '.png', bbox_inches='tight')"
   ]
  },
  {
   "cell_type": "code",
   "execution_count": 18,
   "metadata": {
    "collapsed": true
   },
   "outputs": [],
   "source": [
    "# Identify stocks\n",
    "n = 5\n",
    "\n",
    "portfolio_train = X_train_pred[:, ind[:n]]\n",
    "portfolio_test = X_test_pred[:, ind[:n]]\n",
    "\n",
    "# Create portfolio in-sample\n",
    "tracked_index_insample = np.mean(portfolio_train, axis=1)\n",
    "\n",
    "# Create portfolio out-sample\n",
    "tracked_index_outofsample = np.mean(portfolio_test, axis=1)"
   ]
  },
  {
   "cell_type": "code",
   "execution_count": 19,
   "metadata": {
    "collapsed": false
   },
   "outputs": [
    {
     "data": {
      "image/png": "[encoded data removed]",
      "text/plain": [
       "<Figure size 432x288 with 1 Axes>"
      ]
     },
     "metadata": {
      "needs_background": "light"
     },
     "output_type": "display_data"
    }
   ],
   "source": [
    "# In-sample\n",
    "plt.figure()\n",
    "plt.plot(index_train, label='Nasdaq100 Index')\n",
    "plt.plot(tracked_index_insample, label='Tracked Index')\n",
    "plt.legend()\n",
    "plt.xlabel('Time (days)')\n",
    "plt.ylabel('Normalized price')\n",
    "plt.show()\n",
    "#plt.savefig('images/vanillaAE_insample.png', bbox_inches='tight')"
   ]
  },
  {
   "cell_type": "code",
   "execution_count": 20,
   "metadata": {
    "collapsed": false
   },
   "outputs": [
    {
     "name": "stdout",
     "output_type": "stream",
     "text": [
      "Correlation coefficient (in-sample): 0.98009431\n"
     ]
    }
   ],
   "source": [
    "# Correlation coefficient (in-sample)\n",
    "corr_train = np.corrcoef(index_train.squeeze(), tracked_index_insample)[0, 1]\n",
    "print('Correlation coefficient (in-sample): %.8f' %corr_train)"
   ]
  },
  {
   "cell_type": "code",
   "execution_count": 21,
   "metadata": {
    "collapsed": false
   },
   "outputs": [
    {
     "data": {
      "image/png": "[encoded data removed]",
      "text/plain": [
       "<Figure size 432x288 with 1 Axes>"
      ]
     },
     "metadata": {
      "needs_background": "light"
     },
     "output_type": "display_data"
    }
   ],
   "source": [
    "# Plot tracked index (out-of-sample)\n",
    "plt.figure()\n",
    "plt.plot(index_test, label='Nasdaq100 Index')\n",
    "plt.plot(tracked_index_outofsample, label='Tracked Index')\n",
    "plt.legend()\n",
    "plt.xlabel('Time (days)')\n",
    "plt.ylabel('Normalized price')\n",
    "plt.show()\n",
    "#plt.savefig('images/vanillaAE_outofsample.png', bbox_inches='tight')"
   ]
  },
  {
   "cell_type": "code",
   "execution_count": 22,
   "metadata": {
    "collapsed": false
   },
   "outputs": [
    {
     "name": "stdout",
     "output_type": "stream",
     "text": [
      "Correlation coefficient: 0.78023388\n"
     ]
    }
   ],
   "source": [
    "# Correlation coefficient (out-of-sample)\n",
    "corr_test = np.corrcoef(index_test.squeeze(), tracked_index_outofsample)[0, 1]\n",
    "print('Correlation coefficient: %.8f' %corr_test)"
   ]
  },
  {
   "cell_type": "code",
   "execution_count": 23,
   "metadata": {
    "collapsed": false
   },
   "outputs": [
    {
     "name": "stdout",
     "output_type": "stream",
     "text": [
      "Mean of code values for vanilla AE: 0.52233881\n"
     ]
    }
   ],
   "source": [
    "# Predict code values\n",
    "code_values = encoder.predict(X_test)\n",
    "#code_values.save('models/vanillaAE_code.npy')\n",
    "\n",
    "# Compute mean\n",
    "mean_code = np.mean(code_values, axis=(0, 1))\n",
    "print('Mean of code values for vanilla AE: %.8f' %mean_code)"
   ]
  },
  {
   "cell_type": "code",
   "execution_count": null,
   "metadata": {
    "collapsed": true
   },
   "outputs": [],
   "source": []
  }
 ],
 "metadata": {
  "kernelspec": {
   "display_name": "Python 3",
   "language": "python",
   "name": "python3"
  },
  "language_info": {
   "codemirror_mode": {
    "name": "ipython",
    "version": 3
   },
   "file_extension": ".py",
   "mimetype": "text/x-python",
   "name": "python",
   "nbconvert_exporter": "python",
   "pygments_lexer": "ipython3",
   "version": "3.7.9"
  }
 },
 "nbformat": 4,
 "nbformat_minor": 1
}
